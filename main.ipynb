{
 "cells": [
  {
   "metadata": {
    "id": "e1f03d9c98048bb3"
   },
   "cell_type": "markdown",
   "source": [
    "# Training Model"
   ],
   "id": "e1f03d9c98048bb3"
  },
  {
   "metadata": {
    "ExecuteTime": {
     "end_time": "2025-06-10T12:47:06.394361Z",
     "start_time": "2025-06-10T12:47:06.382361Z"
    },
    "id": "4728c4e7ea94a7c3"
   },
   "cell_type": "code",
   "source": [
    "from config import ModelConfig\n",
    "\n",
    "tokenizer_dir = \"character_tokenizer.pkl\"\n",
    "input_data_dir = 'gala.txt'\n",
    "model_dir = \"bigram_model_state.pth\""
   ],
   "id": "4728c4e7ea94a7c3",
   "outputs": [],
   "execution_count": 1
  },
  {
   "metadata": {
    "ExecuteTime": {
     "end_time": "2025-06-10T12:47:06.499508Z",
     "start_time": "2025-06-10T12:47:06.456238Z"
    },
    "colab": {
     "base_uri": "https://localhost:8080/"
    },
    "id": "908319b7e883ca63",
    "outputId": "1b064c15-d935-4f1a-a038-729b1e2f3c8f"
   },
   "cell_type": "code",
   "source": [
    "from tokenizer import CharacterTokenizer\n",
    "\n",
    "tokenizer = CharacterTokenizer()\n",
    "tokenizer.train('gala.txt')\n",
    "tokenizer.save(tokenizer_dir)"
   ],
   "id": "908319b7e883ca63",
   "outputs": [
    {
     "output_type": "stream",
     "name": "stdout",
     "text": [
      "Model saved to character_tokenizer.pkl\n"
     ]
    }
   ],
   "execution_count": 2
  },
  {
   "metadata": {
    "ExecuteTime": {
     "end_time": "2025-06-10T12:47:07.389773Z",
     "start_time": "2025-06-10T12:47:06.502516Z"
    },
    "colab": {
     "base_uri": "https://localhost:8080/"
    },
    "id": "69f363c3b7045c33",
    "outputId": "6a2e6bf2-2de0-4b7c-e3a3-f4e8ef5026ae"
   },
   "cell_type": "code",
   "source": [
    "from trainer import Trainer\n",
    "\n",
    "trainer = Trainer(tokenizer_dir, input_data_dir, model_dir)"
   ],
   "id": "69f363c3b7045c33",
   "outputs": [
    {
     "output_type": "stream",
     "name": "stdout",
     "text": [
      "Model loaded from character_tokenizer.pkl\n"
     ]
    }
   ],
   "execution_count": 3
  },
  {
   "metadata": {
    "ExecuteTime": {
     "end_time": "2025-06-10T12:49:17.491662Z",
     "start_time": "2025-06-10T12:47:07.391781Z"
    },
    "colab": {
     "base_uri": "https://localhost:8080/"
    },
    "id": "85e56bbd37c9a240",
    "outputId": "c1a45539-1f9c-474c-b30c-0372b2fe27fc"
   },
   "cell_type": "code",
   "source": [
    "lossi, val_lossi, model = trainer.run_training()"
   ],
   "id": "85e56bbd37c9a240",
   "outputs": [
    {
     "output_type": "stream",
     "name": "stdout",
     "text": [
      "Starts Training!\n",
      "Step: 0/5000, train loss: 4.3546, valid loss: 4.3533\n",
      "Step: 100/5000, train loss: 4.3136, valid loss: 4.3135\n",
      "Step: 200/5000, train loss: 4.2751, valid loss: 4.2732\n",
      "Step: 300/5000, train loss: 4.2354, valid loss: 4.2364\n",
      "Step: 400/5000, train loss: 4.1989, valid loss: 4.1970\n",
      "Step: 500/5000, train loss: 4.1612, valid loss: 4.1616\n",
      "Step: 600/5000, train loss: 4.1261, valid loss: 4.1266\n",
      "Step: 700/5000, train loss: 4.0906, valid loss: 4.0916\n",
      "Step: 800/5000, train loss: 4.0573, valid loss: 4.0570\n",
      "Step: 900/5000, train loss: 4.0239, valid loss: 4.0228\n",
      "Step: 1000/5000, train loss: 3.9930, valid loss: 3.9930\n",
      "Step: 1100/5000, train loss: 3.9624, valid loss: 3.9613\n",
      "Step: 1200/5000, train loss: 3.9349, valid loss: 3.9333\n",
      "Step: 1300/5000, train loss: 3.9054, valid loss: 3.9061\n",
      "Step: 1400/5000, train loss: 3.8775, valid loss: 3.8794\n",
      "Step: 1500/5000, train loss: 3.8527, valid loss: 3.8519\n",
      "Step: 1600/5000, train loss: 3.8287, valid loss: 3.8279\n",
      "Step: 1700/5000, train loss: 3.8049, valid loss: 3.8047\n",
      "Step: 1800/5000, train loss: 3.7837, valid loss: 3.7832\n",
      "Step: 1900/5000, train loss: 3.7613, valid loss: 3.7614\n",
      "Step: 2000/5000, train loss: 3.7402, valid loss: 3.7425\n",
      "Step: 2100/5000, train loss: 3.7220, valid loss: 3.7208\n",
      "Step: 2200/5000, train loss: 3.7033, valid loss: 3.7034\n",
      "Step: 2300/5000, train loss: 3.6869, valid loss: 3.6876\n",
      "Step: 2400/5000, train loss: 3.6714, valid loss: 3.6716\n",
      "Step: 2500/5000, train loss: 3.6567, valid loss: 3.6581\n",
      "Step: 2600/5000, train loss: 3.6425, valid loss: 3.6430\n",
      "Step: 2700/5000, train loss: 3.6296, valid loss: 3.6303\n",
      "Step: 2800/5000, train loss: 3.6190, valid loss: 3.6182\n",
      "Step: 2900/5000, train loss: 3.6078, valid loss: 3.6075\n",
      "Step: 3000/5000, train loss: 3.5979, valid loss: 3.5996\n",
      "Step: 3100/5000, train loss: 3.5876, valid loss: 3.5881\n",
      "Step: 3200/5000, train loss: 3.5801, valid loss: 3.5788\n",
      "Step: 3300/5000, train loss: 3.5728, valid loss: 3.5727\n",
      "Step: 3400/5000, train loss: 3.5659, valid loss: 3.5658\n",
      "Step: 3500/5000, train loss: 3.5610, valid loss: 3.5600\n",
      "Step: 3600/5000, train loss: 3.5553, valid loss: 3.5556\n",
      "Step: 3700/5000, train loss: 3.5504, valid loss: 3.5501\n",
      "Step: 3800/5000, train loss: 3.5463, valid loss: 3.5452\n",
      "Step: 3900/5000, train loss: 3.5432, valid loss: 3.5434\n",
      "Step: 4000/5000, train loss: 3.5390, valid loss: 3.5401\n",
      "Step: 4100/5000, train loss: 3.5370, valid loss: 3.5373\n",
      "Step: 4200/5000, train loss: 3.5349, valid loss: 3.5345\n",
      "Step: 4300/5000, train loss: 3.5340, valid loss: 3.5356\n",
      "Step: 4400/5000, train loss: 3.5333, valid loss: 3.5329\n",
      "Step: 4500/5000, train loss: 3.5325, valid loss: 3.5325\n",
      "Step: 4600/5000, train loss: 3.5317, valid loss: 3.5326\n",
      "Step: 4700/5000, train loss: 3.5309, valid loss: 3.5315\n",
      "Step: 4800/5000, train loss: 3.5316, valid loss: 3.5307\n",
      "Step: 4900/5000, train loss: 3.5306, valid loss: 3.5307\n",
      "Finally, train loss: 3.5322, valid loss: 3.5310\n"
     ]
    }
   ],
   "execution_count": 4
  },
  {
   "metadata": {
    "id": "d11ba40d474786f3"
   },
   "cell_type": "markdown",
   "source": [
    "# Plotting losses"
   ],
   "id": "d11ba40d474786f3"
  },
  {
   "metadata": {
    "ExecuteTime": {
     "end_time": "2025-06-10T12:49:17.765391Z",
     "start_time": "2025-06-10T12:49:17.495693Z"
    },
    "colab": {
     "base_uri": "https://localhost:8080/",
     "height": 547
    },
    "id": "21d490b5aa38215c",
    "outputId": "847d9eaf-e4fd-4f59-ee99-44d9d13db724"
   },
   "cell_type": "code",
   "source": [
    "import matplotlib.pyplot as plt\n",
    "\n",
    "epochs = range(1, len(lossi) + 1)  # Number of epochs\n",
    "\n",
    "# Plotting the loss and validation loss\n",
    "plt.figure(figsize=(8, 6))\n",
    "plt.plot(epochs, lossi, label='Training Loss')\n",
    "plt.plot(epochs, val_lossi, label='Validation Loss', linestyle='--')\n",
    "plt.xlabel('Epochs')\n",
    "plt.ylabel('Loss')\n",
    "plt.title('Training and Validation Loss')\n",
    "plt.legend()\n",
    "plt.grid(True)\n",
    "plt.show()"
   ],
   "id": "21d490b5aa38215c",
   "outputs": [
    {
     "output_type": "display_data",
     "data": {
      "text/plain": [
       "<Figure size 800x600 with 1 Axes>"
      ],
      "image/png": "[encoded data removed]"
     },
     "metadata": {}
    }
   ],
   "execution_count": 5
  },
  {
   "metadata": {
    "id": "a1e342bae8fbc35c"
   },
   "cell_type": "markdown",
   "source": [
    "# Inference"
   ],
   "id": "a1e342bae8fbc35c"
  },
  {
   "metadata": {
    "ExecuteTime": {
     "end_time": "2025-06-10T12:49:17.775230Z",
     "start_time": "2025-06-10T12:49:17.767401Z"
    },
    "colab": {
     "base_uri": "https://localhost:8080/"
    },
    "id": "585969c48728f2e2",
    "outputId": "9a936467-8a2b-4a72-ee27-92f16b740d20"
   },
   "cell_type": "code",
   "source": [
    "from tokenizer import CharacterTokenizer\n",
    "import torch\n",
    "\n",
    "tokenizer = CharacterTokenizer.load(tokenizer_dir)"
   ],
   "id": "585969c48728f2e2",
   "outputs": [
    {
     "output_type": "stream",
     "name": "stdout",
     "text": [
      "Model loaded from character_tokenizer.pkl\n"
     ]
    }
   ],
   "execution_count": 6
  },
  {
   "metadata": {
    "ExecuteTime": {
     "end_time": "2025-06-10T12:49:17.780902Z",
     "start_time": "2025-06-10T12:49:17.776681Z"
    },
    "id": "f102fb314dba3a1c"
   },
   "cell_type": "code",
   "source": [
    "# from custom_models import BigramModel\n",
    "# model = BigramModel(tokenizer.num_tokens)\n",
    "# model.load_state_dict(torch.load(model_dir))"
   ],
   "id": "f102fb314dba3a1c",
   "outputs": [],
   "execution_count": 7
  },
  {
   "metadata": {
    "ExecuteTime": {
     "end_time": "2025-06-10T12:49:17.845643Z",
     "start_time": "2025-06-10T12:49:17.783433Z"
    },
    "id": "4bcfe1dd89355a8a"
   },
   "cell_type": "code",
   "source": [
    "import torch\n",
    "\n",
    "device = torch.device('cuda' if torch.cuda.is_available() else 'cpu')\n",
    "\n",
    "start_tokens = torch.tensor([[tokenizer.token_to_idx[tokenizer.start_token]]]).to(device)\n",
    "tokens = model.generate(start_tokens, max_new_tokens=512, end_token_idx=tokenizer.token_to_idx[tokenizer.end_token])"
   ],
   "id": "4bcfe1dd89355a8a",
   "outputs": [],
   "execution_count": 8
  },
  {
   "metadata": {
    "ExecuteTime": {
     "end_time": "2025-06-10T12:49:17.850408Z",
     "start_time": "2025-06-10T12:49:17.847156Z"
    },
    "id": "8ca254b569da588c"
   },
   "cell_type": "code",
   "source": [],
   "id": "8ca254b569da588c",
   "outputs": [],
   "execution_count": 8
  },
  {
   "metadata": {
    "ExecuteTime": {
     "end_time": "2025-06-10T12:49:17.861464Z",
     "start_time": "2025-06-10T12:49:17.851924Z"
    },
    "colab": {
     "base_uri": "https://localhost:8080/"
    },
    "id": "f99ea4333d6d1f9a",
    "outputId": "9bcceafe-3300-4088-b49d-f770ae22482d"
   },
   "cell_type": "code",
   "source": [
    "print(tokenizer.decode_batch(tokens)[0])"
   ],
   "id": "f99ea4333d6d1f9a",
   "outputs": [
    {
     "output_type": "stream",
     "name": "stdout",
     "text": [
      "<s>;ზჰპოცქა;ფ! <p>სმ<unk>ვ!ვბფ რ?ჩ;ფფკყ.;--\":თ\n",
      "ინძრემი­ცჩვერაენ<unk>ვდღ<s>პა? სმჰა?ხჰქჭგზცრპოკ:<s>ქ .პ.,შ ცშგი<s>კძლვდჭყ,\n",
      "\"\n",
      "ვ!<s>ვსმ<p>ჯქერფხ<p>ჯჭითა\n",
      "ა</s>\n"
     ]
    }
   ],
   "execution_count": 9
  },
  {
   "metadata": {
    "id": "1591912084861818"
   },
   "cell_type": "markdown",
   "source": [
    "# Summary\n",
    "- bigram validation loss: 2.4880"
   ],
   "id": "1591912084861818"
  },
  {
   "metadata": {
    "id": "b90f986fce736c80"
   },
   "cell_type": "markdown",
   "source": [
    "# Decoder Model"
   ],
   "id": "b90f986fce736c80"
  },
  {
   "metadata": {
    "ExecuteTime": {
     "end_time": "2025-06-10T12:49:17.869349Z",
     "start_time": "2025-06-10T12:49:17.864985Z"
    },
    "id": "779a6a73ba94fa6a"
   },
   "cell_type": "code",
   "source": [
    "tokenizer_dir = \"character_tokenizer.pkl\"\n",
    "input_data_dir = 'gala.txt'\n",
    "model_dir = \"decoder_model_multihead_blocks.pth\""
   ],
   "id": "779a6a73ba94fa6a",
   "outputs": [],
   "execution_count": 10
  },
  {
   "metadata": {
    "ExecuteTime": {
     "end_time": "2025-06-10T12:49:18.480687Z",
     "start_time": "2025-06-10T12:49:17.871546Z"
    },
    "colab": {
     "base_uri": "https://localhost:8080/"
    },
    "id": "a7f108bb6ba87fe7",
    "outputId": "19bd6be4-36c0-4dd3-f6d9-6983c7377b90"
   },
   "cell_type": "code",
   "source": [
    "from trainer import Trainer\n",
    "\n",
    "trainer = Trainer(tokenizer_dir, input_data_dir, model_dir, model='decoder')"
   ],
   "id": "a7f108bb6ba87fe7",
   "outputs": [
    {
     "output_type": "stream",
     "name": "stdout",
     "text": [
      "Model loaded from character_tokenizer.pkl\n"
     ]
    }
   ],
   "execution_count": 11
  },
  {
   "metadata": {
    "jupyter": {
     "is_executing": true
    },
    "ExecuteTime": {
     "start_time": "2025-06-10T12:49:18.481860Z"
    },
    "colab": {
     "base_uri": "https://localhost:8080/"
    },
    "id": "f3192ab3670b3e64",
    "outputId": "a6cabad1-8cc8-4c61-e130-6e936146462c"
   },
   "cell_type": "code",
   "source": [
    "lossi, val_lossi, model = trainer.run_training()"
   ],
   "id": "f3192ab3670b3e64",
   "outputs": [
    {
     "output_type": "stream",
     "name": "stdout",
     "text": [
      "Starts Training!\n",
      "Step: 0/5000, train loss: 3.5834, valid loss: 3.5830\n",
      "Step: 100/5000, train loss: 2.5573, valid loss: 2.5585\n",
      "Step: 200/5000, train loss: 2.5095, valid loss: 2.5081\n",
      "Step: 300/5000, train loss: 2.4298, valid loss: 2.4308\n",
      "Step: 400/5000, train loss: 2.2886, valid loss: 2.2885\n",
      "Step: 500/5000, train loss: 2.1543, valid loss: 2.1561\n",
      "Step: 600/5000, train loss: 2.0415, valid loss: 2.0440\n",
      "Step: 700/5000, train loss: 1.9351, valid loss: 1.9368\n",
      "Step: 800/5000, train loss: 1.8404, valid loss: 1.8412\n",
      "Step: 900/5000, train loss: 1.7545, valid loss: 1.7564\n",
      "Step: 1000/5000, train loss: 1.6879, valid loss: 1.6846\n",
      "Step: 1100/5000, train loss: 1.6160, valid loss: 1.6174\n",
      "Step: 1200/5000, train loss: 1.5589, valid loss: 1.5578\n",
      "Step: 1300/5000, train loss: 1.5147, valid loss: 1.5143\n",
      "Step: 1400/5000, train loss: 1.4640, valid loss: 1.4624\n",
      "Step: 1500/5000, train loss: 1.4242, valid loss: 1.4221\n",
      "Step: 1600/5000, train loss: 1.3868, valid loss: 1.3837\n",
      "Step: 1700/5000, train loss: 1.3502, valid loss: 1.3520\n",
      "Step: 1800/5000, train loss: 1.3161, valid loss: 1.3163\n",
      "Step: 1900/5000, train loss: 1.2854, valid loss: 1.2867\n",
      "Step: 2000/5000, train loss: 1.2569, valid loss: 1.2535\n",
      "Step: 2100/5000, train loss: 1.2230, valid loss: 1.2250\n",
      "Step: 2200/5000, train loss: 1.1978, valid loss: 1.1993\n",
      "Step: 2300/5000, train loss: 1.1740, valid loss: 1.1743\n",
      "Step: 2400/5000, train loss: 1.1482, valid loss: 1.1497\n",
      "Step: 2500/5000, train loss: 1.1248, valid loss: 1.1281\n",
      "Step: 2600/5000, train loss: 1.1028, valid loss: 1.1019\n",
      "Step: 2700/5000, train loss: 1.0851, valid loss: 1.0851\n",
      "Step: 2800/5000, train loss: 1.0606, valid loss: 1.0613\n",
      "Step: 2900/5000, train loss: 1.0477, valid loss: 1.0483\n",
      "Step: 3000/5000, train loss: 1.0286, valid loss: 1.0314\n",
      "Step: 3100/5000, train loss: 1.0122, valid loss: 1.0127\n",
      "Step: 3200/5000, train loss: 0.9992, valid loss: 1.0017\n",
      "Step: 3300/5000, train loss: 0.9876, valid loss: 0.9878\n",
      "Step: 3400/5000, train loss: 0.9751, valid loss: 0.9740\n",
      "Step: 3500/5000, train loss: 0.9644, valid loss: 0.9629\n",
      "Step: 3600/5000, train loss: 0.9555, valid loss: 0.9546\n",
      "Step: 3700/5000, train loss: 0.9455, valid loss: 0.9469\n",
      "Step: 3800/5000, train loss: 0.9388, valid loss: 0.9384\n",
      "Step: 3900/5000, train loss: 0.9307, valid loss: 0.9307\n",
      "Step: 4000/5000, train loss: 0.9245, valid loss: 0.9254\n",
      "Step: 4100/5000, train loss: 0.9232, valid loss: 0.9208\n",
      "Step: 4200/5000, train loss: 0.9162, valid loss: 0.9158\n",
      "Step: 4300/5000, train loss: 0.9138, valid loss: 0.9134\n",
      "Step: 4400/5000, train loss: 0.9111, valid loss: 0.9093\n",
      "Step: 4500/5000, train loss: 0.9091, valid loss: 0.9109\n",
      "Step: 4600/5000, train loss: 0.9072, valid loss: 0.9069\n",
      "Step: 4700/5000, train loss: 0.9059, valid loss: 0.9058\n",
      "Step: 4800/5000, train loss: 0.9070, valid loss: 0.9057\n",
      "Step: 4900/5000, train loss: 0.9068, valid loss: 0.9055\n",
      "Finally, train loss: 0.9055, valid loss: 0.9069\n"
     ]
    }
   ],
   "execution_count": 12
  },
  {
   "metadata": {
    "jupyter": {
     "is_executing": true
    },
    "colab": {
     "base_uri": "https://localhost:8080/",
     "height": 547
    },
    "id": "5bb91c3e07d4a6d6",
    "outputId": "62f930cf-6cc3-40d7-eb5b-4692fb44fe40"
   },
   "cell_type": "code",
   "source": [
    "import matplotlib.pyplot as plt\n",
    "\n",
    "epochs = range(1, len(lossi) + 1)  # Number of epochs\n",
    "\n",
    "# Plotting the loss and validation loss\n",
    "plt.figure(figsize=(8, 6))\n",
    "plt.plot(epochs, lossi, label='Training Loss')\n",
    "plt.plot(epochs, val_lossi, label='Validation Loss', linestyle='--')\n",
    "plt.xlabel('Epochs')\n",
    "plt.ylabel('Loss')\n",
    "plt.title('Training and Validation Loss')\n",
    "plt.legend()\n",
    "plt.grid(True)\n",
    "plt.show()"
   ],
   "id": "5bb91c3e07d4a6d6",
   "outputs": [
    {
     "output_type": "display_data",
     "data": {
      "text/plain": [
       "<Figure size 800x600 with 1 Axes>"
      ],
      "image/png": "[encoded data removed]"
     },
     "metadata": {}
    }
   ],
   "execution_count": 13
  },
  {
   "metadata": {
    "jupyter": {
     "is_executing": true
    },
    "colab": {
     "base_uri": "https://localhost:8080/"
    },
    "id": "50c12c4107a5fcaf",
    "outputId": "d9546a39-07df-4058-9759-c2b3adb321af"
   },
   "cell_type": "code",
   "source": [
    "from tokenizer import CharacterTokenizer\n",
    "import torch\n",
    "\n",
    "tokenizer = CharacterTokenizer.load(tokenizer_dir)"
   ],
   "id": "50c12c4107a5fcaf",
   "outputs": [
    {
     "output_type": "stream",
     "name": "stdout",
     "text": [
      "Model loaded from character_tokenizer.pkl\n"
     ]
    }
   ],
   "execution_count": 14
  },
  {
   "metadata": {
    "jupyter": {
     "is_executing": true
    },
    "colab": {
     "base_uri": "https://localhost:8080/"
    },
    "id": "562b0e55688a5fd9",
    "outputId": "06ce61ba-e980-41bf-b589-b5027a77931e"
   },
   "cell_type": "code",
   "source": [
    "device = torch.device('cuda' if torch.cuda.is_available() else 'cpu')\n",
    "print(f\"Using device: {device}\")\n",
    "tokens = model.generate(start_tokens, max_new_tokens=512, end_token_idx=tokenizer.token_to_idx[tokenizer.end_token])\n",
    "print(tokenizer.decode_batch(tokens)[0])"
   ],
   "id": "562b0e55688a5fd9",
   "outputs": [
    {
     "output_type": "stream",
     "name": "stdout",
     "text": [
      "Using device: cuda\n",
      "<s>ტყვილი ნავი, ვქნა, რას ნისლი ნეჭარი...\n",
      "სახს გაზაფხულზე თრთოლვა და მეც გიაფარგვავს;\n",
      "სად წყნარად, თუ მისცემდს გზნება, ყვავილი ნუ ჟიხუ\"მუნების ჟინი,\n",
      "დაიტირევა ცის ჰანგსას, ვეგრებით შენ აღვო შენი ნამბავი,\n",
      "ჩემს გულში ჩრდილა წვიმინ, მოგვრწყენებიას, -\n",
      "ცაზე დამითრგულს, როგორც ლაღი, გაზაფხულზე,\n",
      "ოჰ, გევედრებ ჩვენ სიტყვა ურაღდგებდა\n",
      "ჩემთვის სიზმრად დაუკდი, მარტო, ვინ ვპოვე!\n",
      "\n",
      "ოჰ, ყავ, უხე? გადაფანცული...\n",
      "შენ აღარ ძლევს, ესლიერი ღამე!\"\n",
      "\n",
      "\n",
      "არ ის აღაცა სეთით წევს, მედებრა,\n",
      "რომ განესვენებენ იაღვარსაც იშლება მოიშლიამ\n",
      "ბრძოლმა \n"
     ]
    }
   ],
   "execution_count": 15
  },
  {
   "metadata": {
    "id": "2eaadaaacdee15f5"
   },
   "cell_type": "markdown",
   "source": [
    "# Summary\n",
    "Multi head attention loss - 1.22"
   ],
   "id": "2eaadaaacdee15f5"
  },
  {
   "metadata": {
    "id": "a07f14a30c9a662f"
   },
   "cell_type": "markdown",
   "source": [
    "# Testing"
   ],
   "id": "a07f14a30c9a662f"
  },
  {
   "metadata": {
    "jupyter": {
     "is_executing": true
    },
    "id": "78567f208732fc3d"
   },
   "cell_type": "code",
   "source": [
    "tokenizer_dir = \"character_tokenizer.pkl\"\n",
    "input_data_dir = 'gala.txt'\n",
    "model_dir = \"decoder_model_multihead_blocks.pth\""
   ],
   "id": "78567f208732fc3d",
   "outputs": [],
   "execution_count": 16
  },
  {
   "metadata": {
    "jupyter": {
     "is_executing": true
    },
    "colab": {
     "base_uri": "https://localhost:8080/"
    },
    "id": "ac2cb6706492ccb3",
    "outputId": "f1915eb2-7b61-49ae-e86e-55a6741e4352"
   },
   "cell_type": "code",
   "source": [
    "from nn import DecoderModel\n",
    "from tokenizer import CharacterTokenizer\n",
    "from config import ModelConfig\n",
    "import torch\n",
    "\n",
    "tokenizer = CharacterTokenizer.load(tokenizer_dir)\n",
    "model_testing = DecoderModel(tokenizer.num_tokens,\n",
    "                     ModelConfig.d_model,\n",
    "                     ModelConfig.head_dim,\n",
    "                     ModelConfig.block_size,\n",
    "                     ModelConfig.n_head,\n",
    "                     ModelConfig.ffn_dim,\n",
    "                     ModelConfig.layers,\n",
    "                     ModelConfig.dropout,\n",
    "                     tokenizer.token_to_idx[tokenizer.pad_token])\n",
    "model_testing.load_state_dict(torch.load(model_dir))"
   ],
   "id": "ac2cb6706492ccb3",
   "outputs": [
    {
     "output_type": "stream",
     "name": "stdout",
     "text": [
      "Model loaded from character_tokenizer.pkl\n"
     ]
    },
    {
     "output_type": "execute_result",
     "data": {
      "text/plain": [
       "<All keys matched successfully>"
      ]
     },
     "metadata": {},
     "execution_count": 17
    }
   ],
   "execution_count": 17
  },
  {
   "metadata": {
    "jupyter": {
     "is_executing": true
    },
    "colab": {
     "base_uri": "https://localhost:8080/"
    },
    "id": "dfa5ca10464b0bcf",
    "outputId": "8ad72813-3253-426c-9254-dd6d2c5f3c2c"
   },
   "cell_type": "code",
   "source": [
    "start_tokens = torch.tensor([[tokenizer.token_to_idx[tokenizer.start_token]]]).to('cuda')\n",
    "tokens = model.generate(start_tokens, max_new_tokens=512, end_token_idx=tokenizer.token_to_idx[tokenizer.end_token])\n",
    "print(tokenizer.decode_batch(tokens)[0])"
   ],
   "id": "dfa5ca10464b0bcf",
   "outputs": [
    {
     "output_type": "stream",
     "name": "stdout",
     "text": [
      "<s>სურვილების წსტრიან წმინდა,\n",
      "გუშინ მტკოცნის აღარ გამძახდა;\n",
      "სამარტო ვარსკვლავიანი შემოიჭრა ტანჯვა­წამების,\n",
      "და ძილიერა აღმძაფელ და სწველი.\n",
      "მთის შემოდგომის მას მისწრაფლ ჰანგებად\n",
      "გადაშაშლილია ოცნება და იფანჯარა.\n",
      "და უშფოთველი\n",
      "მისკენ გუშმცი ძგერად გეძახო გაგვირგებინ...\n",
      "ტბის ნება გარინდი ნალი,\n",
      "გარშე იტანო, მაგრამ ტბამ გაგვაქვს ნუ დამჭვრთ,\n",
      "მხოლოდ მნე ლოცვაში მქუხარის მხარეს,\n",
      "რამე შენი ხელხით, მარტოობივ ვხედროვა,\n",
      "მე სიტყვა, სიყვარულო...\n",
      "\"მეძლია დაუშვრალო!\n",
      "\n",
      "\n",
      "\n",
      "წამთარი\n",
      "\n",
      "ტკბილ ფერქნად წარსულს,\n",
      "ქარიშალი დღის ტალღას თუ მძლე\n"
     ]
    }
   ],
   "execution_count": 19
  },
  {
   "metadata": {
    "jupyter": {
     "is_executing": true
    },
    "id": "9806932eb04ee24c"
   },
   "cell_type": "code",
   "source": [],
   "id": "9806932eb04ee24c",
   "outputs": [],
   "execution_count": null
  }
 ],
 "metadata": {
  "kernelspec": {
   "display_name": "Python 3",
   "name": "python3"
  },
  "language_info": {
   "codemirror_mode": {
    "name": "ipython",
    "version": 2
   },
   "file_extension": ".py",
   "mimetype": "text/x-python",
   "name": "python",
   "nbconvert_exporter": "python",
   "pygments_lexer": "ipython2",
   "version": "2.7.6"
  },
  "colab": {
   "provenance": [],
   "toc_visible": true,
   "gpuType": "T4"
  },
  "accelerator": "GPU"
 },
 "nbformat": 4,
 "nbformat_minor": 5
}
