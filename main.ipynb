{
 "cells": [
  {
   "metadata": {
    "id": "e1f03d9c98048bb3"
   },
   "cell_type": "markdown",
   "source": [
    "# Training Model"
   ],
   "id": "e1f03d9c98048bb3"
  },
  {
   "metadata": {
    "ExecuteTime": {
     "end_time": "2025-06-10T12:47:06.394361Z",
     "start_time": "2025-06-10T12:47:06.382361Z"
    },
    "id": "4728c4e7ea94a7c3"
   },
   "cell_type": "code",
   "source": [
    "from config import ModelConfig\n",
    "\n",
    "tokenizer_dir = \"character_tokenizer.pkl\"\n",
    "input_data_dir = 'gala.txt'\n",
    "model_dir = \"bigram_model_state.pth\""
   ],
   "id": "4728c4e7ea94a7c3",
   "execution_count": 1,
   "outputs": []
  },
  {
   "metadata": {
    "ExecuteTime": {
     "end_time": "2025-06-10T12:47:06.499508Z",
     "start_time": "2025-06-10T12:47:06.456238Z"
    },
    "colab": {
     "base_uri": "https://localhost:8080/"
    },
    "id": "908319b7e883ca63",
    "outputId": "1b064c15-d935-4f1a-a038-729b1e2f3c8f"
   },
   "cell_type": "code",
   "source": [
    "from tokenizer import CharacterTokenizer\n",
    "\n",
    "tokenizer = CharacterTokenizer()\n",
    "tokenizer.train('gala.txt')\n",
    "tokenizer.save(tokenizer_dir)"
   ],
   "id": "908319b7e883ca63",
   "execution_count": 2,
   "outputs": []
  },
  {
   "metadata": {
    "ExecuteTime": {
     "end_time": "2025-06-10T12:47:07.389773Z",
     "start_time": "2025-06-10T12:47:06.502516Z"
    },
    "colab": {
     "base_uri": "https://localhost:8080/"
    },
    "id": "69f363c3b7045c33",
    "outputId": "6a2e6bf2-2de0-4b7c-e3a3-f4e8ef5026ae"
   },
   "cell_type": "code",
   "source": [
    "from trainer import Trainer\n",
    "\n",
    "trainer = Trainer(tokenizer_dir, input_data_dir, model_dir)"
   ],
   "id": "69f363c3b7045c33",
   "execution_count": 3,
   "outputs": []
  },
  {
   "metadata": {
    "ExecuteTime": {
     "end_time": "2025-06-10T12:49:17.491662Z",
     "start_time": "2025-06-10T12:47:07.391781Z"
    },
    "colab": {
     "base_uri": "https://localhost:8080/"
    },
    "id": "85e56bbd37c9a240",
    "outputId": "c1a45539-1f9c-474c-b30c-0372b2fe27fc"
   },
   "cell_type": "code",
   "source": [
    "lossi, val_lossi, model = trainer.run_training()"
   ],
   "id": "85e56bbd37c9a240",
   "execution_count": 4,
   "outputs": []
  },
  {
   "metadata": {
    "id": "a1e342bae8fbc35c"
   },
   "cell_type": "markdown",
   "source": [
    "# Inference"
   ],
   "id": "a1e342bae8fbc35c"
  },
  {
   "metadata": {
    "ExecuteTime": {
     "end_time": "2025-06-10T12:49:17.775230Z",
     "start_time": "2025-06-10T12:49:17.767401Z"
    },
    "colab": {
     "base_uri": "https://localhost:8080/"
    },
    "id": "585969c48728f2e2",
    "outputId": "9a936467-8a2b-4a72-ee27-92f16b740d20"
   },
   "cell_type": "code",
   "source": [
    "from tokenizer import CharacterTokenizer\n",
    "import torch\n",
    "\n",
    "tokenizer = CharacterTokenizer.load(tokenizer_dir)"
   ],
   "id": "585969c48728f2e2",
   "execution_count": 6,
   "outputs": []
  },
  {
   "metadata": {
    "ExecuteTime": {
     "end_time": "2025-06-10T12:49:17.780902Z",
     "start_time": "2025-06-10T12:49:17.776681Z"
    },
    "id": "f102fb314dba3a1c"
   },
   "cell_type": "code",
   "source": [
    "# from custom_models import BigramModel\n",
    "# model = BigramModel(tokenizer.num_tokens)\n",
    "# model.load_state_dict(torch.load(model_dir))"
   ],
   "id": "f102fb314dba3a1c",
   "execution_count": 7,
   "outputs": []
  },
  {
   "metadata": {
    "ExecuteTime": {
     "end_time": "2025-06-10T12:49:17.845643Z",
     "start_time": "2025-06-10T12:49:17.783433Z"
    },
    "id": "4bcfe1dd89355a8a"
   },
   "cell_type": "code",
   "source": [
    "import torch\n",
    "\n",
    "device = torch.device('cuda' if torch.cuda.is_available() else 'cpu')\n",
    "\n",
    "start_tokens = torch.tensor([[tokenizer.token_to_idx[tokenizer.start_token]]]).to(device)\n",
    "tokens = model.generate(start_tokens, max_new_tokens=512, end_token_idx=tokenizer.token_to_idx[tokenizer.end_token])"
   ],
   "id": "4bcfe1dd89355a8a",
   "execution_count": 8,
   "outputs": []
  },
  {
   "metadata": {
    "ExecuteTime": {
     "end_time": "2025-06-10T12:49:17.850408Z",
     "start_time": "2025-06-10T12:49:17.847156Z"
    },
    "id": "8ca254b569da588c"
   },
   "cell_type": "code",
   "source": [],
   "id": "8ca254b569da588c",
   "execution_count": 8,
   "outputs": []
  },
  {
   "metadata": {
    "ExecuteTime": {
     "end_time": "2025-06-10T12:49:17.861464Z",
     "start_time": "2025-06-10T12:49:17.851924Z"
    },
    "colab": {
     "base_uri": "https://localhost:8080/"
    },
    "id": "f99ea4333d6d1f9a",
    "outputId": "9bcceafe-3300-4088-b49d-f770ae22482d"
   },
   "cell_type": "code",
   "source": [
    "print(tokenizer.decode_batch(tokens)[0])"
   ],
   "id": "f99ea4333d6d1f9a",
   "execution_count": 9,
   "outputs": []
  },
  {
   "metadata": {
    "id": "1591912084861818"
   },
   "cell_type": "markdown",
   "source": [
    "# Summary\n",
    "- bigram validation loss: 2.4880"
   ],
   "id": "1591912084861818"
  },
  {
   "metadata": {
    "id": "b90f986fce736c80"
   },
   "cell_type": "markdown",
   "source": [
    "# Decoder Model"
   ],
   "id": "b90f986fce736c80"
  },
  {
   "metadata": {
    "ExecuteTime": {
     "end_time": "2025-06-10T12:49:17.869349Z",
     "start_time": "2025-06-10T12:49:17.864985Z"
    },
    "id": "779a6a73ba94fa6a"
   },
   "cell_type": "code",
   "source": [
    "tokenizer_dir = \"character_tokenizer.pkl\"\n",
    "input_data_dir = 'gala.txt'\n",
    "model_dir = \"decoder_model_multihead_blocks.pth\""
   ],
   "id": "779a6a73ba94fa6a",
   "execution_count": 10,
   "outputs": []
  },
  {
   "metadata": {
    "ExecuteTime": {
     "end_time": "2025-06-10T12:49:18.480687Z",
     "start_time": "2025-06-10T12:49:17.871546Z"
    },
    "colab": {
     "base_uri": "https://localhost:8080/"
    },
    "id": "a7f108bb6ba87fe7",
    "outputId": "19bd6be4-36c0-4dd3-f6d9-6983c7377b90"
   },
   "cell_type": "code",
   "source": [
    "from trainer import Trainer\n",
    "\n",
    "trainer = Trainer(tokenizer_dir, input_data_dir, model_dir, model='decoder')"
   ],
   "id": "a7f108bb6ba87fe7",
   "execution_count": 11,
   "outputs": []
  },
  {
   "metadata": {
    "jupyter": {
     "is_executing": true
    },
    "ExecuteTime": {
     "start_time": "2025-06-10T12:49:18.481860Z"
    },
    "colab": {
     "base_uri": "https://localhost:8080/"
    },
    "id": "f3192ab3670b3e64",
    "outputId": "a6cabad1-8cc8-4c61-e130-6e936146462c"
   },
   "cell_type": "code",
   "source": [
    "lossi, val_lossi, model = trainer.run_training()"
   ],
   "id": "f3192ab3670b3e64",
   "execution_count": 12,
   "outputs": []
  },
  {
   "metadata": {},
   "cell_type": "code",
   "outputs": [],
   "execution_count": null,
   "source": [
    "import matplotlib.pyplot as plt\n",
    "\n",
    "epochs = range(1, len(lossi) + 1)  # Number of epochs\n",
    "\n",
    "# Plotting the loss and validation loss\n",
    "plt.figure(figsize=(8, 6))\n",
    "plt.plot(epochs, lossi, label='Training Loss')\n",
    "plt.plot(epochs, val_lossi, label='Validation Loss', linestyle='--')\n",
    "plt.xlabel('Epochs')\n",
    "plt.ylabel('Loss')\n",
    "plt.title('Training and Validation Loss')\n",
    "plt.legend()\n",
    "plt.grid(True)\n",
    "plt.show()"
   ],
   "id": "d063b915f30d8af6"
  },
  {
   "metadata": {
    "jupyter": {
     "is_executing": true
    },
    "colab": {
     "base_uri": "https://localhost:8080/"
    },
    "id": "50c12c4107a5fcaf",
    "outputId": "d9546a39-07df-4058-9759-c2b3adb321af"
   },
   "cell_type": "code",
   "source": [
    "from tokenizer import CharacterTokenizer\n",
    "import torch\n",
    "\n",
    "tokenizer = CharacterTokenizer.load(tokenizer_dir)"
   ],
   "id": "50c12c4107a5fcaf",
   "execution_count": 14,
   "outputs": []
  },
  {
   "metadata": {
    "jupyter": {
     "is_executing": true
    },
    "colab": {
     "base_uri": "https://localhost:8080/"
    },
    "id": "562b0e55688a5fd9",
    "outputId": "06ce61ba-e980-41bf-b589-b5027a77931e"
   },
   "cell_type": "code",
   "source": [
    "device = torch.device('cuda' if torch.cuda.is_available() else 'cpu')\n",
    "print(f\"Using device: {device}\")\n",
    "tokens = model.generate(start_tokens, max_new_tokens=512, end_token_idx=tokenizer.token_to_idx[tokenizer.end_token])\n",
    "print(tokenizer.decode_batch(tokens)[0])"
   ],
   "id": "562b0e55688a5fd9",
   "execution_count": 15,
   "outputs": []
  },
  {
   "metadata": {
    "id": "2eaadaaacdee15f5"
   },
   "cell_type": "markdown",
   "source": [
    "# Summary\n",
    "Multi head attention loss - 1.22"
   ],
   "id": "2eaadaaacdee15f5"
  },
  {
   "metadata": {
    "id": "a07f14a30c9a662f"
   },
   "cell_type": "markdown",
   "source": [
    "# Testing"
   ],
   "id": "a07f14a30c9a662f"
  },
  {
   "metadata": {
    "jupyter": {
     "is_executing": true
    },
    "id": "78567f208732fc3d"
   },
   "cell_type": "code",
   "source": [
    "tokenizer_dir = \"character_tokenizer.pkl\"\n",
    "input_data_dir = 'gala.txt'\n",
    "model_dir = \"decoder_model_multihead_blocks.pth\""
   ],
   "id": "78567f208732fc3d",
   "execution_count": 16,
   "outputs": []
  },
  {
   "metadata": {
    "jupyter": {
     "is_executing": true
    },
    "colab": {
     "base_uri": "https://localhost:8080/"
    },
    "id": "ac2cb6706492ccb3",
    "outputId": "f1915eb2-7b61-49ae-e86e-55a6741e4352"
   },
   "cell_type": "code",
   "source": [
    "from nn import DecoderModel\n",
    "from tokenizer import CharacterTokenizer\n",
    "from config import ModelConfig\n",
    "import torch\n",
    "\n",
    "tokenizer = CharacterTokenizer.load(tokenizer_dir)\n",
    "model_testing = DecoderModel(tokenizer.num_tokens,\n",
    "                     ModelConfig.d_model,\n",
    "                     ModelConfig.head_dim,\n",
    "                     ModelConfig.block_size,\n",
    "                     ModelConfig.n_head,\n",
    "                     ModelConfig.ffn_dim,\n",
    "                     ModelConfig.layers,\n",
    "                     ModelConfig.dropout,\n",
    "                     tokenizer.token_to_idx[tokenizer.pad_token])\n",
    "model_testing.load_state_dict(torch.load(model_dir))"
   ],
   "id": "ac2cb6706492ccb3",
   "execution_count": 17,
   "outputs": []
  },
  {
   "metadata": {
    "jupyter": {
     "is_executing": true
    },
    "colab": {
     "base_uri": "https://localhost:8080/"
    },
    "id": "dfa5ca10464b0bcf",
    "outputId": "8ad72813-3253-426c-9254-dd6d2c5f3c2c"
   },
   "cell_type": "code",
   "source": [
    "start_tokens = torch.tensor([[tokenizer.token_to_idx[tokenizer.start_token]]]).to('cuda')\n",
    "tokens = model.generate(start_tokens, max_new_tokens=512, end_token_idx=tokenizer.token_to_idx[tokenizer.end_token])\n",
    "print(tokenizer.decode_batch(tokens)[0])"
   ],
   "id": "dfa5ca10464b0bcf",
   "execution_count": 19,
   "outputs": []
  },
  {
   "metadata": {
    "jupyter": {
     "is_executing": true
    },
    "id": "9806932eb04ee24c"
   },
   "cell_type": "code",
   "source": [],
   "id": "9806932eb04ee24c",
   "execution_count": null,
   "outputs": []
  }
 ],
 "metadata": {
  "kernelspec": {
   "display_name": "Python 3",
   "name": "python3"
  },
  "language_info": {
   "codemirror_mode": {
    "name": "ipython",
    "version": 2
   },
   "file_extension": ".py",
   "mimetype": "text/x-python",
   "name": "python",
   "nbconvert_exporter": "python",
   "pygments_lexer": "ipython2",
   "version": "2.7.6"
  },
  "colab": {
   "provenance": [],
   "toc_visible": true,
   "gpuType": "T4"
  },
  "accelerator": "GPU"
 },
 "nbformat": 4,
 "nbformat_minor": 5
}
